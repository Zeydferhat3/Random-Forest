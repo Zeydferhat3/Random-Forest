{
 "cells": [
  {
   "cell_type": "markdown",
   "id": "2af672b8-708d-49e9-ad65-a060baf6d0ac",
   "metadata": {},
   "source": [
    "# 1 Imports"
   ]
  },
  {
   "cell_type": "code",
   "execution_count": 1,
   "id": "5a152b90-ad2f-479b-95eb-0af489763f18",
   "metadata": {},
   "outputs": [],
   "source": [
    "import pandas as pd\n",
    "import seaborn as sns\n",
    "import matplotlib.pyplot as plt\n",
    "from sklearn.model_selection import train_test_split\n",
    "from sklearn.impute import SimpleImputer"
   ]
  },
  {
   "cell_type": "markdown",
   "id": "98d89b32-1f1f-4c0f-838e-892aa2896e74",
   "metadata": {},
   "source": [
    "# 2 Data"
   ]
  },
  {
   "cell_type": "code",
   "execution_count": 2,
   "id": "ce3cf26f-cecb-4cc6-8bdf-9afb28108568",
   "metadata": {
    "tags": []
   },
   "outputs": [],
   "source": [
    "import pandas as pd\n",
    "df = pd.read_csv(\"Bone Tumor Dataset.csv\")"
   ]
  },
  {
   "cell_type": "markdown",
   "id": "0684433b-09c5-4ceb-b303-43832300dae3",
   "metadata": {},
   "source": [
    "## 2.1 Brief Explanation of the Data:\n",
    "\n",
    "Column Descriptors:\n",
    "\n",
    "Patient ID: A unique identifier for each patient.\n",
    "\n",
    "Sex: The patient's sex.\n",
    "\n",
    "Age: The patient's age at the time of diagnosis.\n",
    "\n",
    "Grade: The grade of the tumor, which is a measure of how aggressive the tumor is.\n",
    "\n",
    "Histological type: The type of tumor, such as osteosarcoma or Ewing sarcoma.\n",
    "\n",
    "MSKCC type: The MSKCC type of the tumor, which is a more specific classificationof the tumor.\n",
    "\n",
    "Site of primary STS: The location of the tumor in the bone.\n",
    "\n",
    "Status (NED, AWD, D): The patient's status, which can be NED (no evidence of disease), AWD (alive with disease), or D (dead).\n",
    "\n",
    "Treatment: The treatment that the patient received, such as surgery, radiation therapy, or chemotherapy.\n"
   ]
  },
  {
   "cell_type": "markdown",
   "id": "b296b0b7-0be4-4e58-936c-afa2f526b445",
   "metadata": {
    "tags": []
   },
   "source": [
    "# 3. EDA "
   ]
  },
  {
   "cell_type": "code",
   "execution_count": 3,
   "id": "75d1e8c2-495b-4510-ad06-d82a6aecb44c",
   "metadata": {
    "tags": []
   },
   "outputs": [
    {
     "data": {
      "text/html": [
       "<div>\n",
       "<style scoped>\n",
       "    .dataframe tbody tr th:only-of-type {\n",
       "        vertical-align: middle;\n",
       "    }\n",
       "\n",
       "    .dataframe tbody tr th {\n",
       "        vertical-align: top;\n",
       "    }\n",
       "\n",
       "    .dataframe thead th {\n",
       "        text-align: right;\n",
       "    }\n",
       "</style>\n",
       "<table border=\"1\" class=\"dataframe\">\n",
       "  <thead>\n",
       "    <tr style=\"text-align: right;\">\n",
       "      <th></th>\n",
       "      <th>Patient ID</th>\n",
       "      <th>Sex</th>\n",
       "      <th>Age</th>\n",
       "      <th>Grade</th>\n",
       "      <th>Histological type</th>\n",
       "      <th>MSKCC type</th>\n",
       "      <th>Site of primary STS</th>\n",
       "      <th>Status (NED, AWD, D)</th>\n",
       "      <th>Treatment</th>\n",
       "    </tr>\n",
       "  </thead>\n",
       "  <tbody>\n",
       "    <tr>\n",
       "      <th>0</th>\n",
       "      <td>STS_001</td>\n",
       "      <td>Female</td>\n",
       "      <td>63</td>\n",
       "      <td>High</td>\n",
       "      <td>pleiomorphic leiomyosarcoma</td>\n",
       "      <td>Leiomyosarcoma</td>\n",
       "      <td>parascapusular</td>\n",
       "      <td>NED</td>\n",
       "      <td>Radiotherapy + Surgery</td>\n",
       "    </tr>\n",
       "    <tr>\n",
       "      <th>1</th>\n",
       "      <td>STS_002</td>\n",
       "      <td>Female</td>\n",
       "      <td>54</td>\n",
       "      <td>Intermediate</td>\n",
       "      <td>pleiomorphic leiomyosarcoma</td>\n",
       "      <td>MFH</td>\n",
       "      <td>left thigh</td>\n",
       "      <td>D</td>\n",
       "      <td>Surgery + Chemotherapy</td>\n",
       "    </tr>\n",
       "    <tr>\n",
       "      <th>2</th>\n",
       "      <td>STS_003</td>\n",
       "      <td>Male</td>\n",
       "      <td>22</td>\n",
       "      <td>Intermediate</td>\n",
       "      <td>synovial sarcoma</td>\n",
       "      <td>MFH</td>\n",
       "      <td>right buttock</td>\n",
       "      <td>D</td>\n",
       "      <td>Radiotherapy + Surgery</td>\n",
       "    </tr>\n",
       "    <tr>\n",
       "      <th>3</th>\n",
       "      <td>STS_004</td>\n",
       "      <td>Female</td>\n",
       "      <td>54</td>\n",
       "      <td>Intermediate</td>\n",
       "      <td>synovial sarcoma</td>\n",
       "      <td>Leiomyosarcoma</td>\n",
       "      <td>right thigh</td>\n",
       "      <td>NED</td>\n",
       "      <td>Radiotherapy + Surgery</td>\n",
       "    </tr>\n",
       "    <tr>\n",
       "      <th>4</th>\n",
       "      <td>STS_005</td>\n",
       "      <td>Male</td>\n",
       "      <td>63</td>\n",
       "      <td>High</td>\n",
       "      <td>pleiomorphic spindle cell undifferentiated</td>\n",
       "      <td>MFH</td>\n",
       "      <td>right parascapusular</td>\n",
       "      <td>AWD</td>\n",
       "      <td>Radiotherapy + Surgery + Chemotherapy</td>\n",
       "    </tr>\n",
       "  </tbody>\n",
       "</table>\n",
       "</div>"
      ],
      "text/plain": [
       "  Patient ID     Sex  Age         Grade  \\\n",
       "0    STS_001  Female   63          High   \n",
       "1    STS_002  Female   54  Intermediate   \n",
       "2    STS_003    Male   22  Intermediate   \n",
       "3    STS_004  Female   54  Intermediate   \n",
       "4    STS_005    Male   63          High   \n",
       "\n",
       "                            Histological type      MSKCC type  \\\n",
       "0                 pleiomorphic leiomyosarcoma  Leiomyosarcoma   \n",
       "1                 pleiomorphic leiomyosarcoma             MFH   \n",
       "2                            synovial sarcoma             MFH   \n",
       "3                            synovial sarcoma  Leiomyosarcoma   \n",
       "4  pleiomorphic spindle cell undifferentiated             MFH   \n",
       "\n",
       "    Site of primary STS Status (NED, AWD, D)  \\\n",
       "0        parascapusular                  NED   \n",
       "1            left thigh                    D   \n",
       "2         right buttock                    D   \n",
       "3           right thigh                  NED   \n",
       "4  right parascapusular                  AWD   \n",
       "\n",
       "                               Treatment  \n",
       "0                 Radiotherapy + Surgery  \n",
       "1                 Surgery + Chemotherapy  \n",
       "2                 Radiotherapy + Surgery  \n",
       "3                 Radiotherapy + Surgery  \n",
       "4  Radiotherapy + Surgery + Chemotherapy  "
      ]
     },
     "execution_count": 3,
     "metadata": {},
     "output_type": "execute_result"
    }
   ],
   "source": [
    "df.head()"
   ]
  },
  {
   "cell_type": "code",
   "execution_count": 4,
   "id": "10e98ba3-2e71-4d4f-869b-abe4abf2ea30",
   "metadata": {
    "tags": []
   },
   "outputs": [
    {
     "name": "stdout",
     "output_type": "stream",
     "text": [
      "Dataset Information:\n",
      "\n",
      "<class 'pandas.core.frame.DataFrame'>\n",
      "RangeIndex: 500 entries, 0 to 499\n",
      "Data columns (total 9 columns):\n",
      " #   Column                Non-Null Count  Dtype \n",
      "---  ------                --------------  ----- \n",
      " 0   Patient ID            500 non-null    object\n",
      " 1   Sex                   500 non-null    object\n",
      " 2   Age                   500 non-null    int64 \n",
      " 3   Grade                 500 non-null    object\n",
      " 4   Histological type     500 non-null    object\n",
      " 5   MSKCC type            500 non-null    object\n",
      " 6   Site of primary STS   500 non-null    object\n",
      " 7   Status (NED, AWD, D)  500 non-null    object\n",
      " 8   Treatment             500 non-null    object\n",
      "dtypes: int64(1), object(8)\n",
      "memory usage: 35.3+ KB\n"
     ]
    }
   ],
   "source": [
    "print(\"Dataset Information:\\n\")\n",
    "df.info()"
   ]
  },
  {
   "cell_type": "code",
   "execution_count": 5,
   "id": "6caa4d2e-310a-497e-9c03-f1f9abf151e9",
   "metadata": {
    "tags": []
   },
   "outputs": [
    {
     "data": {
      "text/plain": [
       "array(['Radiotherapy + Surgery', 'Surgery + Chemotherapy',\n",
       "       'Radiotherapy + Surgery + Chemotherapy'], dtype=object)"
      ]
     },
     "execution_count": 5,
     "metadata": {},
     "output_type": "execute_result"
    }
   ],
   "source": [
    "df.Treatment.unique()"
   ]
  },
  {
   "cell_type": "code",
   "execution_count": 6,
   "id": "da2f1b1a-9a4f-4e1c-96be-f86356877bcd",
   "metadata": {
    "tags": []
   },
   "outputs": [
    {
     "data": {
      "text/plain": [
       "(500, 9)"
      ]
     },
     "execution_count": 6,
     "metadata": {},
     "output_type": "execute_result"
    }
   ],
   "source": [
    "df.shape"
   ]
  },
  {
   "cell_type": "code",
   "execution_count": 7,
   "id": "ad6943f9-ba34-4ee5-bb68-5b9f86750718",
   "metadata": {
    "tags": []
   },
   "outputs": [
    {
     "name": "stdout",
     "output_type": "stream",
     "text": [
      "Columns:\n",
      "Index(['Patient ID', 'Sex', 'Age', 'Grade', 'Histological type', 'MSKCC type',\n",
      "       'Site of primary STS', 'Status (NED, AWD, D)', 'Treatment'],\n",
      "      dtype='object')\n"
     ]
    }
   ],
   "source": [
    "print(\"Columns:\")\n",
    "print(df.columns)"
   ]
  },
  {
   "cell_type": "code",
   "execution_count": 8,
   "id": "0d64fc89-df1a-4dae-a9a8-c0b8b28a5e2a",
   "metadata": {
    "tags": []
   },
   "outputs": [
    {
     "name": "stdout",
     "output_type": "stream",
     "text": [
      "Unique Values:\n",
      "Patient ID              500\n",
      "Sex                       2\n",
      "Age                      65\n",
      "Grade                     2\n",
      "Histological type        13\n",
      "MSKCC type                3\n",
      "Site of primary STS       7\n",
      "Status (NED, AWD, D)      3\n",
      "Treatment                 3\n",
      "dtype: int64\n"
     ]
    }
   ],
   "source": [
    "print(\"Unique Values:\")\n",
    "print(df.nunique())"
   ]
  },
  {
   "cell_type": "code",
   "execution_count": 9,
   "id": "bbd84ee1-46a2-4a11-a2ea-64594bf2b695",
   "metadata": {
    "tags": []
   },
   "outputs": [
    {
     "data": {
      "text/plain": [
       "Patient ID              0\n",
       "Sex                     0\n",
       "Age                     0\n",
       "Grade                   0\n",
       "Histological type       0\n",
       "MSKCC type              0\n",
       "Site of primary STS     0\n",
       "Status (NED, AWD, D)    0\n",
       "Treatment               0\n",
       "dtype: int64"
      ]
     },
     "execution_count": 9,
     "metadata": {},
     "output_type": "execute_result"
    }
   ],
   "source": [
    "df.isnull().sum() "
   ]
  },
  {
   "cell_type": "code",
   "execution_count": 10,
   "id": "71f2ff33-3c86-4034-8958-decd492dacec",
   "metadata": {
    "tags": []
   },
   "outputs": [
    {
     "name": "stdout",
     "output_type": "stream",
     "text": [
      "Unique values in column 'Patient ID': ['STS_001' 'STS_002' 'STS_003' 'STS_004' 'STS_005' 'STS_006' 'STS_007'\n",
      " 'STS_008' 'STS_009' 'STS_010' 'STS_011' 'STS_012' 'STS_013' 'STS_014'\n",
      " 'STS_015' 'STS_016' 'STS_017' 'STS_018' 'STS_019' 'STS_020' 'STS_021'\n",
      " 'STS_022' 'STS_023' 'STS_024' 'STS_025' 'STS_026' 'STS_027' 'STS_028'\n",
      " 'STS_029' 'STS_030' 'STS_031' 'STS_032' 'STS_033' 'STS_034' 'STS_035'\n",
      " 'STS_036' 'STS_037' 'STS_038' 'STS_039' 'STS_040' 'STS_041' 'STS_042'\n",
      " 'STS_043' 'STS_044' 'STS_045' 'STS_046' 'STS_047' 'STS_048' 'STS_049'\n",
      " 'STS_050' 'STS_051' 'STS_052' 'STS_053' 'STS_054' 'STS_055' 'STS_056'\n",
      " 'STS_057' 'STS_058' 'STS_059' 'STS_060' 'STS_061' 'STS_062' 'STS_063'\n",
      " 'STS_064' 'STS_065' 'STS_066' 'STS_067' 'STS_068' 'STS_069' 'STS_070'\n",
      " 'STS_071' 'STS_072' 'STS_073' 'STS_074' 'STS_075' 'STS_076' 'STS_077'\n",
      " 'STS_078' 'STS_079' 'STS_080' 'STS_081' 'STS_082' 'STS_083' 'STS_084'\n",
      " 'STS_085' 'STS_086' 'STS_087' 'STS_088' 'STS_089' 'STS_090' 'STS_091'\n",
      " 'STS_092' 'STS_093' 'STS_094' 'STS_095' 'STS_096' 'STS_097' 'STS_098'\n",
      " 'STS_099' 'STS_100' 'STS_101' 'STS_102' 'STS_103' 'STS_104' 'STS_105'\n",
      " 'STS_106' 'STS_107' 'STS_108' 'STS_109' 'STS_110' 'STS_111' 'STS_112'\n",
      " 'STS_113' 'STS_114' 'STS_115' 'STS_116' 'STS_117' 'STS_118' 'STS_119'\n",
      " 'STS_120' 'STS_121' 'STS_122' 'STS_123' 'STS_124' 'STS_125' 'STS_126'\n",
      " 'STS_127' 'STS_128' 'STS_129' 'STS_130' 'STS_131' 'STS_132' 'STS_133'\n",
      " 'STS_134' 'STS_135' 'STS_136' 'STS_137' 'STS_138' 'STS_139' 'STS_140'\n",
      " 'STS_141' 'STS_142' 'STS_143' 'STS_144' 'STS_145' 'STS_146' 'STS_147'\n",
      " 'STS_148' 'STS_149' 'STS_150' 'STS_151' 'STS_152' 'STS_153' 'STS_154'\n",
      " 'STS_155' 'STS_156' 'STS_157' 'STS_158' 'STS_159' 'STS_160' 'STS_161'\n",
      " 'STS_162' 'STS_163' 'STS_164' 'STS_165' 'STS_166' 'STS_167' 'STS_168'\n",
      " 'STS_169' 'STS_170' 'STS_171' 'STS_172' 'STS_173' 'STS_174' 'STS_175'\n",
      " 'STS_176' 'STS_177' 'STS_178' 'STS_179' 'STS_180' 'STS_181' 'STS_182'\n",
      " 'STS_183' 'STS_184' 'STS_185' 'STS_186' 'STS_187' 'STS_188' 'STS_189'\n",
      " 'STS_190' 'STS_191' 'STS_192' 'STS_193' 'STS_194' 'STS_195' 'STS_196'\n",
      " 'STS_197' 'STS_198' 'STS_199' 'STS_200' 'STS_201' 'STS_202' 'STS_203'\n",
      " 'STS_204' 'STS_205' 'STS_206' 'STS_207' 'STS_208' 'STS_209' 'STS_210'\n",
      " 'STS_211' 'STS_212' 'STS_213' 'STS_214' 'STS_215' 'STS_216' 'STS_217'\n",
      " 'STS_218' 'STS_219' 'STS_220' 'STS_221' 'STS_222' 'STS_223' 'STS_224'\n",
      " 'STS_225' 'STS_226' 'STS_227' 'STS_228' 'STS_229' 'STS_230' 'STS_231'\n",
      " 'STS_232' 'STS_233' 'STS_234' 'STS_235' 'STS_236' 'STS_237' 'STS_238'\n",
      " 'STS_239' 'STS_240' 'STS_241' 'STS_242' 'STS_243' 'STS_244' 'STS_245'\n",
      " 'STS_246' 'STS_247' 'STS_248' 'STS_249' 'STS_250' 'STS_251' 'STS_252'\n",
      " 'STS_253' 'STS_254' 'STS_255' 'STS_256' 'STS_257' 'STS_258' 'STS_259'\n",
      " 'STS_260' 'STS_261' 'STS_262' 'STS_263' 'STS_264' 'STS_265' 'STS_266'\n",
      " 'STS_267' 'STS_268' 'STS_269' 'STS_270' 'STS_271' 'STS_272' 'STS_273'\n",
      " 'STS_274' 'STS_275' 'STS_276' 'STS_277' 'STS_278' 'STS_279' 'STS_280'\n",
      " 'STS_281' 'STS_282' 'STS_283' 'STS_284' 'STS_285' 'STS_286' 'STS_287'\n",
      " 'STS_288' 'STS_289' 'STS_290' 'STS_291' 'STS_292' 'STS_293' 'STS_294'\n",
      " 'STS_295' 'STS_296' 'STS_297' 'STS_298' 'STS_299' 'STS_300' 'STS_301'\n",
      " 'STS_302' 'STS_303' 'STS_304' 'STS_305' 'STS_306' 'STS_307' 'STS_308'\n",
      " 'STS_309' 'STS_310' 'STS_311' 'STS_312' 'STS_313' 'STS_314' 'STS_315'\n",
      " 'STS_316' 'STS_317' 'STS_318' 'STS_319' 'STS_320' 'STS_321' 'STS_322'\n",
      " 'STS_323' 'STS_324' 'STS_325' 'STS_326' 'STS_327' 'STS_328' 'STS_329'\n",
      " 'STS_330' 'STS_331' 'STS_332' 'STS_333' 'STS_334' 'STS_335' 'STS_336'\n",
      " 'STS_337' 'STS_338' 'STS_339' 'STS_340' 'STS_341' 'STS_342' 'STS_343'\n",
      " 'STS_344' 'STS_345' 'STS_346' 'STS_347' 'STS_348' 'STS_349' 'STS_350'\n",
      " 'STS_351' 'STS_352' 'STS_353' 'STS_354' 'STS_355' 'STS_356' 'STS_357'\n",
      " 'STS_358' 'STS_359' 'STS_360' 'STS_361' 'STS_362' 'STS_363' 'STS_364'\n",
      " 'STS_365' 'STS_366' 'STS_367' 'STS_368' 'STS_369' 'STS_370' 'STS_371'\n",
      " 'STS_372' 'STS_373' 'STS_374' 'STS_375' 'STS_376' 'STS_377' 'STS_378'\n",
      " 'STS_379' 'STS_380' 'STS_381' 'STS_382' 'STS_383' 'STS_384' 'STS_385'\n",
      " 'STS_386' 'STS_387' 'STS_388' 'STS_389' 'STS_390' 'STS_391' 'STS_392'\n",
      " 'STS_393' 'STS_394' 'STS_395' 'STS_396' 'STS_397' 'STS_398' 'STS_399'\n",
      " 'STS_400' 'STS_401' 'STS_402' 'STS_403' 'STS_404' 'STS_405' 'STS_406'\n",
      " 'STS_407' 'STS_408' 'STS_409' 'STS_410' 'STS_411' 'STS_412' 'STS_413'\n",
      " 'STS_414' 'STS_415' 'STS_416' 'STS_417' 'STS_418' 'STS_419' 'STS_420'\n",
      " 'STS_421' 'STS_422' 'STS_423' 'STS_424' 'STS_425' 'STS_426' 'STS_427'\n",
      " 'STS_428' 'STS_429' 'STS_430' 'STS_431' 'STS_432' 'STS_433' 'STS_434'\n",
      " 'STS_435' 'STS_436' 'STS_437' 'STS_438' 'STS_439' 'STS_440' 'STS_441'\n",
      " 'STS_442' 'STS_443' 'STS_444' 'STS_445' 'STS_446' 'STS_447' 'STS_448'\n",
      " 'STS_449' 'STS_450' 'STS_451' 'STS_452' 'STS_453' 'STS_454' 'STS_455'\n",
      " 'STS_456' 'STS_457' 'STS_458' 'STS_459' 'STS_460' 'STS_461' 'STS_462'\n",
      " 'STS_463' 'STS_464' 'STS_465' 'STS_466' 'STS_467' 'STS_468' 'STS_469'\n",
      " 'STS_470' 'STS_471' 'STS_472' 'STS_473' 'STS_474' 'STS_475' 'STS_476'\n",
      " 'STS_477' 'STS_478' 'STS_479' 'STS_480' 'STS_481' 'STS_482' 'STS_483'\n",
      " 'STS_484' 'STS_485' 'STS_486' 'STS_487' 'STS_488' 'STS_489' 'STS_490'\n",
      " 'STS_491' 'STS_492' 'STS_493' 'STS_494' 'STS_495' 'STS_496' 'STS_497'\n",
      " 'STS_498' 'STS_499' 'STS_500']\n",
      "Unique values in column 'Sex': ['Female' 'Male']\n",
      "Unique values in column 'Age': [63 54 22 58 38 83 61 43 49 44 62 64 74 42 80 30 67 47 66 70 76 69 68 45\n",
      " 55 73 26 51 60 29 71 53 77 28 48 40 52 46 72 78 65 57 36 39 41 33 56 18\n",
      " 50 25 34 59 79 35 17 75 24 82 21 23 19 81 37 31 27]\n",
      "Unique values in column 'Grade': ['High' 'Intermediate']\n",
      "Unique values in column 'Histological type': ['pleiomorphic leiomyosarcoma' 'synovial sarcoma'\n",
      " 'pleiomorphic spindle cell undifferentiated'\n",
      " 'poorly differentiated synovial sarcoma' 'myxoid fibrosarcoma'\n",
      " 'sclerosing epithelioid fibrosarcoma' 'leiomyosarcoma'\n",
      " 'malignant solitary fibrous tumor'\n",
      " 'undifferentiated pleomorphic liposarcoma' 'myxofibrosarcoma'\n",
      " 'epithelioid sarcoma' 'undifferentiated - pleiomorphic'\n",
      " 'pleomorphic sarcoma']\n",
      "Unique values in column 'MSKCC type': ['Leiomyosarcoma' 'MFH' 'Synovial sarcoma']\n",
      "Unique values in column 'Site of primary STS': ['parascapusular' 'left thigh' 'right buttock' 'right thigh'\n",
      " 'right parascapusular' 'left biceps' 'left buttock']\n",
      "Unique values in column 'Status (NED, AWD, D)': ['NED' 'D' 'AWD']\n",
      "Unique values in column 'Treatment': ['Radiotherapy + Surgery' 'Surgery + Chemotherapy'\n",
      " 'Radiotherapy + Surgery + Chemotherapy']\n"
     ]
    }
   ],
   "source": [
    "for column in df.columns:\n",
    "    unique_values = df[column].unique()\n",
    "    print(f\"Unique values in column '{column}': {unique_values}\")"
   ]
  },
  {
   "cell_type": "code",
   "execution_count": 11,
   "id": "c499fba6-fff4-40da-9e9b-81fafd77eae9",
   "metadata": {
    "tags": []
   },
   "outputs": [
    {
     "data": {
      "image/png": "[encoded data removed]",
      "text/plain": [
       "<Figure size 2000x1500 with 1 Axes>"
      ]
     },
     "metadata": {},
     "output_type": "display_data"
    }
   ],
   "source": [
    "import matplotlib.pyplot as plt\n",
    "df.hist(bins=50, figsize=(20,15))\n",
    "plt.show()"
   ]
  },
  {
   "cell_type": "code",
   "execution_count": 12,
   "id": "3fe9f201-29fc-476f-91cf-bc4cfa28cb00",
   "metadata": {
    "tags": []
   },
   "outputs": [
    {
     "data": {
      "text/plain": [
       "<Axes: >"
      ]
     },
     "execution_count": 12,
     "metadata": {},
     "output_type": "execute_result"
    },
    {
     "data": {
      "image/png": "[encoded data removed]",
      "text/plain": [
       "<Figure size 640x480 with 1 Axes>"
      ]
     },
     "metadata": {},
     "output_type": "display_data"
    }
   ],
   "source": [
    "df[\"Treatment\"].hist()"
   ]
  },
  {
   "cell_type": "code",
   "execution_count": 13,
   "id": "d7ae09bb-868a-439a-91d0-67de7f40efde",
   "metadata": {
    "tags": []
   },
   "outputs": [
    {
     "data": {
      "text/plain": [
       "<Axes: xlabel='Histological type', ylabel='Treatment'>"
      ]
     },
     "execution_count": 13,
     "metadata": {},
     "output_type": "execute_result"
    },
    {
     "data": {
      "image/png": "[encoded data removed]",
      "text/plain": [
       "<Figure size 640x480 with 1 Axes>"
      ]
     },
     "metadata": {},
     "output_type": "display_data"
    }
   ],
   "source": [
    "df.plot(kind=\"scatter\", x=\"Histological type\", y=\"Treatment\")"
   ]
  },
  {
   "cell_type": "markdown",
   "id": "4551d379-29e2-46df-b296-3d5a0551f867",
   "metadata": {},
   "source": [
    "# 3.1 Categorical Data Distribution"
   ]
  },
  {
   "cell_type": "code",
   "execution_count": 14,
   "id": "1bfb77cf-fc0b-4236-818f-bdf2443f7767",
   "metadata": {
    "tags": []
   },
   "outputs": [],
   "source": [
    "categorical_columns = df.select_dtypes(include=['object', 'category'])"
   ]
  },
  {
   "cell_type": "code",
   "execution_count": 15,
   "id": "61c60b19-f6a5-453f-b039-f56f17c649a6",
   "metadata": {
    "tags": []
   },
   "outputs": [
    {
     "data": {
      "text/html": [
       "<div>\n",
       "<style scoped>\n",
       "    .dataframe tbody tr th:only-of-type {\n",
       "        vertical-align: middle;\n",
       "    }\n",
       "\n",
       "    .dataframe tbody tr th {\n",
       "        vertical-align: top;\n",
       "    }\n",
       "\n",
       "    .dataframe thead th {\n",
       "        text-align: right;\n",
       "    }\n",
       "</style>\n",
       "<table border=\"1\" class=\"dataframe\">\n",
       "  <thead>\n",
       "    <tr style=\"text-align: right;\">\n",
       "      <th></th>\n",
       "      <th>Patient ID</th>\n",
       "      <th>Sex</th>\n",
       "      <th>Grade</th>\n",
       "      <th>Histological type</th>\n",
       "      <th>MSKCC type</th>\n",
       "      <th>Site of primary STS</th>\n",
       "      <th>Status (NED, AWD, D)</th>\n",
       "      <th>Treatment</th>\n",
       "    </tr>\n",
       "  </thead>\n",
       "  <tbody>\n",
       "    <tr>\n",
       "      <th>0</th>\n",
       "      <td>STS_001</td>\n",
       "      <td>Female</td>\n",
       "      <td>High</td>\n",
       "      <td>pleiomorphic leiomyosarcoma</td>\n",
       "      <td>Leiomyosarcoma</td>\n",
       "      <td>parascapusular</td>\n",
       "      <td>NED</td>\n",
       "      <td>Radiotherapy + Surgery</td>\n",
       "    </tr>\n",
       "    <tr>\n",
       "      <th>1</th>\n",
       "      <td>STS_002</td>\n",
       "      <td>Female</td>\n",
       "      <td>Intermediate</td>\n",
       "      <td>pleiomorphic leiomyosarcoma</td>\n",
       "      <td>MFH</td>\n",
       "      <td>left thigh</td>\n",
       "      <td>D</td>\n",
       "      <td>Surgery + Chemotherapy</td>\n",
       "    </tr>\n",
       "    <tr>\n",
       "      <th>2</th>\n",
       "      <td>STS_003</td>\n",
       "      <td>Male</td>\n",
       "      <td>Intermediate</td>\n",
       "      <td>synovial sarcoma</td>\n",
       "      <td>MFH</td>\n",
       "      <td>right buttock</td>\n",
       "      <td>D</td>\n",
       "      <td>Radiotherapy + Surgery</td>\n",
       "    </tr>\n",
       "    <tr>\n",
       "      <th>3</th>\n",
       "      <td>STS_004</td>\n",
       "      <td>Female</td>\n",
       "      <td>Intermediate</td>\n",
       "      <td>synovial sarcoma</td>\n",
       "      <td>Leiomyosarcoma</td>\n",
       "      <td>right thigh</td>\n",
       "      <td>NED</td>\n",
       "      <td>Radiotherapy + Surgery</td>\n",
       "    </tr>\n",
       "    <tr>\n",
       "      <th>4</th>\n",
       "      <td>STS_005</td>\n",
       "      <td>Male</td>\n",
       "      <td>High</td>\n",
       "      <td>pleiomorphic spindle cell undifferentiated</td>\n",
       "      <td>MFH</td>\n",
       "      <td>right parascapusular</td>\n",
       "      <td>AWD</td>\n",
       "      <td>Radiotherapy + Surgery + Chemotherapy</td>\n",
       "    </tr>\n",
       "    <tr>\n",
       "      <th>...</th>\n",
       "      <td>...</td>\n",
       "      <td>...</td>\n",
       "      <td>...</td>\n",
       "      <td>...</td>\n",
       "      <td>...</td>\n",
       "      <td>...</td>\n",
       "      <td>...</td>\n",
       "      <td>...</td>\n",
       "    </tr>\n",
       "    <tr>\n",
       "      <th>495</th>\n",
       "      <td>STS_496</td>\n",
       "      <td>Male</td>\n",
       "      <td>Intermediate</td>\n",
       "      <td>epithelioid sarcoma</td>\n",
       "      <td>MFH</td>\n",
       "      <td>left thigh</td>\n",
       "      <td>D</td>\n",
       "      <td>Surgery + Chemotherapy</td>\n",
       "    </tr>\n",
       "    <tr>\n",
       "      <th>496</th>\n",
       "      <td>STS_497</td>\n",
       "      <td>Male</td>\n",
       "      <td>High</td>\n",
       "      <td>poorly differentiated synovial sarcoma</td>\n",
       "      <td>MFH</td>\n",
       "      <td>right parascapusular</td>\n",
       "      <td>AWD</td>\n",
       "      <td>Radiotherapy + Surgery + Chemotherapy</td>\n",
       "    </tr>\n",
       "    <tr>\n",
       "      <th>497</th>\n",
       "      <td>STS_498</td>\n",
       "      <td>Female</td>\n",
       "      <td>Intermediate</td>\n",
       "      <td>pleomorphic sarcoma</td>\n",
       "      <td>Synovial sarcoma</td>\n",
       "      <td>right thigh</td>\n",
       "      <td>NED</td>\n",
       "      <td>Radiotherapy + Surgery</td>\n",
       "    </tr>\n",
       "    <tr>\n",
       "      <th>498</th>\n",
       "      <td>STS_499</td>\n",
       "      <td>Male</td>\n",
       "      <td>High</td>\n",
       "      <td>synovial sarcoma</td>\n",
       "      <td>MFH</td>\n",
       "      <td>right thigh</td>\n",
       "      <td>D</td>\n",
       "      <td>Radiotherapy + Surgery + Chemotherapy</td>\n",
       "    </tr>\n",
       "    <tr>\n",
       "      <th>499</th>\n",
       "      <td>STS_500</td>\n",
       "      <td>Female</td>\n",
       "      <td>Intermediate</td>\n",
       "      <td>pleiomorphic leiomyosarcoma</td>\n",
       "      <td>Leiomyosarcoma</td>\n",
       "      <td>left biceps</td>\n",
       "      <td>NED</td>\n",
       "      <td>Radiotherapy + Surgery</td>\n",
       "    </tr>\n",
       "  </tbody>\n",
       "</table>\n",
       "<p>500 rows × 8 columns</p>\n",
       "</div>"
      ],
      "text/plain": [
       "    Patient ID     Sex         Grade  \\\n",
       "0      STS_001  Female          High   \n",
       "1      STS_002  Female  Intermediate   \n",
       "2      STS_003    Male  Intermediate   \n",
       "3      STS_004  Female  Intermediate   \n",
       "4      STS_005    Male          High   \n",
       "..         ...     ...           ...   \n",
       "495    STS_496    Male  Intermediate   \n",
       "496    STS_497    Male          High   \n",
       "497    STS_498  Female  Intermediate   \n",
       "498    STS_499    Male          High   \n",
       "499    STS_500  Female  Intermediate   \n",
       "\n",
       "                              Histological type        MSKCC type  \\\n",
       "0                   pleiomorphic leiomyosarcoma    Leiomyosarcoma   \n",
       "1                   pleiomorphic leiomyosarcoma               MFH   \n",
       "2                              synovial sarcoma               MFH   \n",
       "3                              synovial sarcoma    Leiomyosarcoma   \n",
       "4    pleiomorphic spindle cell undifferentiated               MFH   \n",
       "..                                          ...               ...   \n",
       "495                         epithelioid sarcoma               MFH   \n",
       "496      poorly differentiated synovial sarcoma               MFH   \n",
       "497                         pleomorphic sarcoma  Synovial sarcoma   \n",
       "498                            synovial sarcoma               MFH   \n",
       "499                 pleiomorphic leiomyosarcoma    Leiomyosarcoma   \n",
       "\n",
       "      Site of primary STS Status (NED, AWD, D)  \\\n",
       "0          parascapusular                  NED   \n",
       "1              left thigh                    D   \n",
       "2           right buttock                    D   \n",
       "3             right thigh                  NED   \n",
       "4    right parascapusular                  AWD   \n",
       "..                    ...                  ...   \n",
       "495            left thigh                    D   \n",
       "496  right parascapusular                  AWD   \n",
       "497           right thigh                  NED   \n",
       "498           right thigh                    D   \n",
       "499           left biceps                  NED   \n",
       "\n",
       "                                 Treatment  \n",
       "0                   Radiotherapy + Surgery  \n",
       "1                   Surgery + Chemotherapy  \n",
       "2                   Radiotherapy + Surgery  \n",
       "3                   Radiotherapy + Surgery  \n",
       "4    Radiotherapy + Surgery + Chemotherapy  \n",
       "..                                     ...  \n",
       "495                 Surgery + Chemotherapy  \n",
       "496  Radiotherapy + Surgery + Chemotherapy  \n",
       "497                 Radiotherapy + Surgery  \n",
       "498  Radiotherapy + Surgery + Chemotherapy  \n",
       "499                 Radiotherapy + Surgery  \n",
       "\n",
       "[500 rows x 8 columns]"
      ]
     },
     "execution_count": 15,
     "metadata": {},
     "output_type": "execute_result"
    }
   ],
   "source": [
    "categorical_columns"
   ]
  },
  {
   "cell_type": "code",
   "execution_count": 16,
   "id": "9499dcfe-5016-49f6-9fb8-deb029218f78",
   "metadata": {
    "tags": []
   },
   "outputs": [],
   "source": [
    "from sklearn.preprocessing import LabelEncoder\n",
    "le = LabelEncoder()\n",
    "for col in categorical_columns:\n",
    "    df[col] = le.fit_transform(df[col])"
   ]
  },
  {
   "cell_type": "code",
   "execution_count": 17,
   "id": "eefbd3cf-93c3-44b6-be49-b879e2c6f477",
   "metadata": {
    "tags": []
   },
   "outputs": [
    {
     "data": {
      "text/html": [
       "<div>\n",
       "<style scoped>\n",
       "    .dataframe tbody tr th:only-of-type {\n",
       "        vertical-align: middle;\n",
       "    }\n",
       "\n",
       "    .dataframe tbody tr th {\n",
       "        vertical-align: top;\n",
       "    }\n",
       "\n",
       "    .dataframe thead th {\n",
       "        text-align: right;\n",
       "    }\n",
       "</style>\n",
       "<table border=\"1\" class=\"dataframe\">\n",
       "  <thead>\n",
       "    <tr style=\"text-align: right;\">\n",
       "      <th></th>\n",
       "      <th>Patient ID</th>\n",
       "      <th>Sex</th>\n",
       "      <th>Age</th>\n",
       "      <th>Grade</th>\n",
       "      <th>Histological type</th>\n",
       "      <th>MSKCC type</th>\n",
       "      <th>Site of primary STS</th>\n",
       "      <th>Status (NED, AWD, D)</th>\n",
       "      <th>Treatment</th>\n",
       "    </tr>\n",
       "  </thead>\n",
       "  <tbody>\n",
       "    <tr>\n",
       "      <th>0</th>\n",
       "      <td>0</td>\n",
       "      <td>0</td>\n",
       "      <td>63</td>\n",
       "      <td>0</td>\n",
       "      <td>5</td>\n",
       "      <td>0</td>\n",
       "      <td>3</td>\n",
       "      <td>2</td>\n",
       "      <td>0</td>\n",
       "    </tr>\n",
       "    <tr>\n",
       "      <th>1</th>\n",
       "      <td>1</td>\n",
       "      <td>0</td>\n",
       "      <td>54</td>\n",
       "      <td>1</td>\n",
       "      <td>5</td>\n",
       "      <td>1</td>\n",
       "      <td>2</td>\n",
       "      <td>1</td>\n",
       "      <td>2</td>\n",
       "    </tr>\n",
       "    <tr>\n",
       "      <th>2</th>\n",
       "      <td>2</td>\n",
       "      <td>1</td>\n",
       "      <td>22</td>\n",
       "      <td>1</td>\n",
       "      <td>10</td>\n",
       "      <td>1</td>\n",
       "      <td>4</td>\n",
       "      <td>1</td>\n",
       "      <td>0</td>\n",
       "    </tr>\n",
       "    <tr>\n",
       "      <th>3</th>\n",
       "      <td>3</td>\n",
       "      <td>0</td>\n",
       "      <td>54</td>\n",
       "      <td>1</td>\n",
       "      <td>10</td>\n",
       "      <td>0</td>\n",
       "      <td>6</td>\n",
       "      <td>2</td>\n",
       "      <td>0</td>\n",
       "    </tr>\n",
       "    <tr>\n",
       "      <th>4</th>\n",
       "      <td>4</td>\n",
       "      <td>1</td>\n",
       "      <td>63</td>\n",
       "      <td>0</td>\n",
       "      <td>6</td>\n",
       "      <td>1</td>\n",
       "      <td>5</td>\n",
       "      <td>0</td>\n",
       "      <td>1</td>\n",
       "    </tr>\n",
       "    <tr>\n",
       "      <th>...</th>\n",
       "      <td>...</td>\n",
       "      <td>...</td>\n",
       "      <td>...</td>\n",
       "      <td>...</td>\n",
       "      <td>...</td>\n",
       "      <td>...</td>\n",
       "      <td>...</td>\n",
       "      <td>...</td>\n",
       "      <td>...</td>\n",
       "    </tr>\n",
       "    <tr>\n",
       "      <th>495</th>\n",
       "      <td>495</td>\n",
       "      <td>1</td>\n",
       "      <td>31</td>\n",
       "      <td>1</td>\n",
       "      <td>0</td>\n",
       "      <td>1</td>\n",
       "      <td>2</td>\n",
       "      <td>1</td>\n",
       "      <td>2</td>\n",
       "    </tr>\n",
       "    <tr>\n",
       "      <th>496</th>\n",
       "      <td>496</td>\n",
       "      <td>1</td>\n",
       "      <td>41</td>\n",
       "      <td>0</td>\n",
       "      <td>8</td>\n",
       "      <td>1</td>\n",
       "      <td>5</td>\n",
       "      <td>0</td>\n",
       "      <td>1</td>\n",
       "    </tr>\n",
       "    <tr>\n",
       "      <th>497</th>\n",
       "      <td>497</td>\n",
       "      <td>0</td>\n",
       "      <td>60</td>\n",
       "      <td>1</td>\n",
       "      <td>7</td>\n",
       "      <td>2</td>\n",
       "      <td>6</td>\n",
       "      <td>2</td>\n",
       "      <td>0</td>\n",
       "    </tr>\n",
       "    <tr>\n",
       "      <th>498</th>\n",
       "      <td>498</td>\n",
       "      <td>1</td>\n",
       "      <td>43</td>\n",
       "      <td>0</td>\n",
       "      <td>10</td>\n",
       "      <td>1</td>\n",
       "      <td>6</td>\n",
       "      <td>1</td>\n",
       "      <td>1</td>\n",
       "    </tr>\n",
       "    <tr>\n",
       "      <th>499</th>\n",
       "      <td>499</td>\n",
       "      <td>0</td>\n",
       "      <td>73</td>\n",
       "      <td>1</td>\n",
       "      <td>5</td>\n",
       "      <td>0</td>\n",
       "      <td>0</td>\n",
       "      <td>2</td>\n",
       "      <td>0</td>\n",
       "    </tr>\n",
       "  </tbody>\n",
       "</table>\n",
       "<p>500 rows × 9 columns</p>\n",
       "</div>"
      ],
      "text/plain": [
       "     Patient ID  Sex  Age  Grade  Histological type  MSKCC type  \\\n",
       "0             0    0   63      0                  5           0   \n",
       "1             1    0   54      1                  5           1   \n",
       "2             2    1   22      1                 10           1   \n",
       "3             3    0   54      1                 10           0   \n",
       "4             4    1   63      0                  6           1   \n",
       "..          ...  ...  ...    ...                ...         ...   \n",
       "495         495    1   31      1                  0           1   \n",
       "496         496    1   41      0                  8           1   \n",
       "497         497    0   60      1                  7           2   \n",
       "498         498    1   43      0                 10           1   \n",
       "499         499    0   73      1                  5           0   \n",
       "\n",
       "     Site of primary STS  Status (NED, AWD, D)  Treatment  \n",
       "0                      3                     2          0  \n",
       "1                      2                     1          2  \n",
       "2                      4                     1          0  \n",
       "3                      6                     2          0  \n",
       "4                      5                     0          1  \n",
       "..                   ...                   ...        ...  \n",
       "495                    2                     1          2  \n",
       "496                    5                     0          1  \n",
       "497                    6                     2          0  \n",
       "498                    6                     1          1  \n",
       "499                    0                     2          0  \n",
       "\n",
       "[500 rows x 9 columns]"
      ]
     },
     "execution_count": 17,
     "metadata": {},
     "output_type": "execute_result"
    }
   ],
   "source": [
    "df"
   ]
  },
  {
   "cell_type": "markdown",
   "id": "a1758e97-29e0-4158-842e-b0c19b747f15",
   "metadata": {},
   "source": [
    "# 3.3. Correlation Analysis"
   ]
  },
  {
   "cell_type": "code",
   "execution_count": 18,
   "id": "05648de4-6ee3-4e04-9ccb-9c7b27da7b1b",
   "metadata": {
    "tags": []
   },
   "outputs": [
    {
     "data": {
      "image/png": "[encoded data removed]",
      "text/plain": [
       "<Figure size 1000x800 with 2 Axes>"
      ]
     },
     "metadata": {},
     "output_type": "display_data"
    }
   ],
   "source": [
    "correlation_matrix = df.corr()\n",
    "plt.figure(figsize=(10, 8))\n",
    "sns.heatmap(correlation_matrix, annot=True, cmap='Oranges', fmt=\".2f\")\n",
    "plt.title(\"Correlation Matrix\")\n",
    "plt.show()"
   ]
  },
  {
   "cell_type": "code",
   "execution_count": 19,
   "id": "48f80848-c1f5-4837-b7dc-2f1159f62361",
   "metadata": {
    "tags": []
   },
   "outputs": [
    {
     "data": {
      "text/html": [
       "<div>\n",
       "<style scoped>\n",
       "    .dataframe tbody tr th:only-of-type {\n",
       "        vertical-align: middle;\n",
       "    }\n",
       "\n",
       "    .dataframe tbody tr th {\n",
       "        vertical-align: top;\n",
       "    }\n",
       "\n",
       "    .dataframe thead th {\n",
       "        text-align: right;\n",
       "    }\n",
       "</style>\n",
       "<table border=\"1\" class=\"dataframe\">\n",
       "  <thead>\n",
       "    <tr style=\"text-align: right;\">\n",
       "      <th></th>\n",
       "      <th>Patient ID</th>\n",
       "      <th>Sex</th>\n",
       "      <th>Age</th>\n",
       "      <th>Grade</th>\n",
       "      <th>Histological type</th>\n",
       "      <th>MSKCC type</th>\n",
       "      <th>Site of primary STS</th>\n",
       "      <th>Status (NED, AWD, D)</th>\n",
       "      <th>Treatment</th>\n",
       "    </tr>\n",
       "  </thead>\n",
       "  <tbody>\n",
       "    <tr>\n",
       "      <th>count</th>\n",
       "      <td>500.000000</td>\n",
       "      <td>500.000000</td>\n",
       "      <td>500.000000</td>\n",
       "      <td>500.000000</td>\n",
       "      <td>500.000000</td>\n",
       "      <td>500.000000</td>\n",
       "      <td>500.000000</td>\n",
       "      <td>500.000000</td>\n",
       "      <td>500.000000</td>\n",
       "    </tr>\n",
       "    <tr>\n",
       "      <th>mean</th>\n",
       "      <td>249.500000</td>\n",
       "      <td>0.400000</td>\n",
       "      <td>55.396000</td>\n",
       "      <td>0.564000</td>\n",
       "      <td>6.198000</td>\n",
       "      <td>0.974000</td>\n",
       "      <td>3.410000</td>\n",
       "      <td>1.270000</td>\n",
       "      <td>0.542000</td>\n",
       "    </tr>\n",
       "    <tr>\n",
       "      <th>std</th>\n",
       "      <td>144.481833</td>\n",
       "      <td>0.490389</td>\n",
       "      <td>16.131573</td>\n",
       "      <td>0.496384</td>\n",
       "      <td>3.488141</td>\n",
       "      <td>0.741906</td>\n",
       "      <td>1.973243</td>\n",
       "      <td>0.803986</td>\n",
       "      <td>0.710807</td>\n",
       "    </tr>\n",
       "    <tr>\n",
       "      <th>min</th>\n",
       "      <td>0.000000</td>\n",
       "      <td>0.000000</td>\n",
       "      <td>17.000000</td>\n",
       "      <td>0.000000</td>\n",
       "      <td>0.000000</td>\n",
       "      <td>0.000000</td>\n",
       "      <td>0.000000</td>\n",
       "      <td>0.000000</td>\n",
       "      <td>0.000000</td>\n",
       "    </tr>\n",
       "    <tr>\n",
       "      <th>25%</th>\n",
       "      <td>124.750000</td>\n",
       "      <td>0.000000</td>\n",
       "      <td>44.000000</td>\n",
       "      <td>0.000000</td>\n",
       "      <td>3.000000</td>\n",
       "      <td>0.000000</td>\n",
       "      <td>2.000000</td>\n",
       "      <td>1.000000</td>\n",
       "      <td>0.000000</td>\n",
       "    </tr>\n",
       "    <tr>\n",
       "      <th>50%</th>\n",
       "      <td>249.500000</td>\n",
       "      <td>0.000000</td>\n",
       "      <td>56.000000</td>\n",
       "      <td>1.000000</td>\n",
       "      <td>5.000000</td>\n",
       "      <td>1.000000</td>\n",
       "      <td>3.000000</td>\n",
       "      <td>1.000000</td>\n",
       "      <td>0.000000</td>\n",
       "    </tr>\n",
       "    <tr>\n",
       "      <th>75%</th>\n",
       "      <td>374.250000</td>\n",
       "      <td>1.000000</td>\n",
       "      <td>68.000000</td>\n",
       "      <td>1.000000</td>\n",
       "      <td>10.000000</td>\n",
       "      <td>2.000000</td>\n",
       "      <td>6.000000</td>\n",
       "      <td>2.000000</td>\n",
       "      <td>1.000000</td>\n",
       "    </tr>\n",
       "    <tr>\n",
       "      <th>max</th>\n",
       "      <td>499.000000</td>\n",
       "      <td>1.000000</td>\n",
       "      <td>83.000000</td>\n",
       "      <td>1.000000</td>\n",
       "      <td>12.000000</td>\n",
       "      <td>2.000000</td>\n",
       "      <td>6.000000</td>\n",
       "      <td>2.000000</td>\n",
       "      <td>2.000000</td>\n",
       "    </tr>\n",
       "  </tbody>\n",
       "</table>\n",
       "</div>"
      ],
      "text/plain": [
       "       Patient ID         Sex         Age       Grade  Histological type  \\\n",
       "count  500.000000  500.000000  500.000000  500.000000         500.000000   \n",
       "mean   249.500000    0.400000   55.396000    0.564000           6.198000   \n",
       "std    144.481833    0.490389   16.131573    0.496384           3.488141   \n",
       "min      0.000000    0.000000   17.000000    0.000000           0.000000   \n",
       "25%    124.750000    0.000000   44.000000    0.000000           3.000000   \n",
       "50%    249.500000    0.000000   56.000000    1.000000           5.000000   \n",
       "75%    374.250000    1.000000   68.000000    1.000000          10.000000   \n",
       "max    499.000000    1.000000   83.000000    1.000000          12.000000   \n",
       "\n",
       "       MSKCC type  Site of primary STS  Status (NED, AWD, D)   Treatment  \n",
       "count  500.000000           500.000000            500.000000  500.000000  \n",
       "mean     0.974000             3.410000              1.270000    0.542000  \n",
       "std      0.741906             1.973243              0.803986    0.710807  \n",
       "min      0.000000             0.000000              0.000000    0.000000  \n",
       "25%      0.000000             2.000000              1.000000    0.000000  \n",
       "50%      1.000000             3.000000              1.000000    0.000000  \n",
       "75%      2.000000             6.000000              2.000000    1.000000  \n",
       "max      2.000000             6.000000              2.000000    2.000000  "
      ]
     },
     "execution_count": 19,
     "metadata": {},
     "output_type": "execute_result"
    }
   ],
   "source": [
    "df.describe()"
   ]
  },
  {
   "cell_type": "code",
   "execution_count": 20,
   "id": "8460ca02-f0f4-4260-b3b6-7c40d3c0b476",
   "metadata": {
    "tags": []
   },
   "outputs": [
    {
     "name": "stdout",
     "output_type": "stream",
     "text": [
      "<class 'pandas.core.frame.DataFrame'>\n",
      "RangeIndex: 500 entries, 0 to 499\n",
      "Data columns (total 9 columns):\n",
      " #   Column                Non-Null Count  Dtype\n",
      "---  ------                --------------  -----\n",
      " 0   Patient ID            500 non-null    int64\n",
      " 1   Sex                   500 non-null    int64\n",
      " 2   Age                   500 non-null    int64\n",
      " 3   Grade                 500 non-null    int64\n",
      " 4   Histological type     500 non-null    int64\n",
      " 5   MSKCC type            500 non-null    int64\n",
      " 6   Site of primary STS   500 non-null    int64\n",
      " 7   Status (NED, AWD, D)  500 non-null    int64\n",
      " 8   Treatment             500 non-null    int64\n",
      "dtypes: int64(9)\n",
      "memory usage: 35.3 KB\n"
     ]
    }
   ],
   "source": [
    "df.info()"
   ]
  },
  {
   "cell_type": "code",
   "execution_count": 21,
   "id": "37983598-351b-4cf0-a3a0-aa4a40c96864",
   "metadata": {
    "tags": []
   },
   "outputs": [],
   "source": [
    "df.drop([\"Patient ID\",\"Sex\"], axis=1,inplace=True)  "
   ]
  },
  {
   "cell_type": "code",
   "execution_count": 22,
   "id": "00e96832-3d5a-4554-9f7a-53cd6b615185",
   "metadata": {
    "tags": []
   },
   "outputs": [
    {
     "data": {
      "text/html": [
       "<div>\n",
       "<style scoped>\n",
       "    .dataframe tbody tr th:only-of-type {\n",
       "        vertical-align: middle;\n",
       "    }\n",
       "\n",
       "    .dataframe tbody tr th {\n",
       "        vertical-align: top;\n",
       "    }\n",
       "\n",
       "    .dataframe thead th {\n",
       "        text-align: right;\n",
       "    }\n",
       "</style>\n",
       "<table border=\"1\" class=\"dataframe\">\n",
       "  <thead>\n",
       "    <tr style=\"text-align: right;\">\n",
       "      <th></th>\n",
       "      <th>Age</th>\n",
       "      <th>Grade</th>\n",
       "      <th>Histological type</th>\n",
       "      <th>MSKCC type</th>\n",
       "      <th>Site of primary STS</th>\n",
       "      <th>Status (NED, AWD, D)</th>\n",
       "      <th>Treatment</th>\n",
       "    </tr>\n",
       "  </thead>\n",
       "  <tbody>\n",
       "    <tr>\n",
       "      <th>0</th>\n",
       "      <td>63</td>\n",
       "      <td>0</td>\n",
       "      <td>5</td>\n",
       "      <td>0</td>\n",
       "      <td>3</td>\n",
       "      <td>2</td>\n",
       "      <td>0</td>\n",
       "    </tr>\n",
       "    <tr>\n",
       "      <th>1</th>\n",
       "      <td>54</td>\n",
       "      <td>1</td>\n",
       "      <td>5</td>\n",
       "      <td>1</td>\n",
       "      <td>2</td>\n",
       "      <td>1</td>\n",
       "      <td>2</td>\n",
       "    </tr>\n",
       "    <tr>\n",
       "      <th>2</th>\n",
       "      <td>22</td>\n",
       "      <td>1</td>\n",
       "      <td>10</td>\n",
       "      <td>1</td>\n",
       "      <td>4</td>\n",
       "      <td>1</td>\n",
       "      <td>0</td>\n",
       "    </tr>\n",
       "    <tr>\n",
       "      <th>3</th>\n",
       "      <td>54</td>\n",
       "      <td>1</td>\n",
       "      <td>10</td>\n",
       "      <td>0</td>\n",
       "      <td>6</td>\n",
       "      <td>2</td>\n",
       "      <td>0</td>\n",
       "    </tr>\n",
       "    <tr>\n",
       "      <th>4</th>\n",
       "      <td>63</td>\n",
       "      <td>0</td>\n",
       "      <td>6</td>\n",
       "      <td>1</td>\n",
       "      <td>5</td>\n",
       "      <td>0</td>\n",
       "      <td>1</td>\n",
       "    </tr>\n",
       "    <tr>\n",
       "      <th>...</th>\n",
       "      <td>...</td>\n",
       "      <td>...</td>\n",
       "      <td>...</td>\n",
       "      <td>...</td>\n",
       "      <td>...</td>\n",
       "      <td>...</td>\n",
       "      <td>...</td>\n",
       "    </tr>\n",
       "    <tr>\n",
       "      <th>495</th>\n",
       "      <td>31</td>\n",
       "      <td>1</td>\n",
       "      <td>0</td>\n",
       "      <td>1</td>\n",
       "      <td>2</td>\n",
       "      <td>1</td>\n",
       "      <td>2</td>\n",
       "    </tr>\n",
       "    <tr>\n",
       "      <th>496</th>\n",
       "      <td>41</td>\n",
       "      <td>0</td>\n",
       "      <td>8</td>\n",
       "      <td>1</td>\n",
       "      <td>5</td>\n",
       "      <td>0</td>\n",
       "      <td>1</td>\n",
       "    </tr>\n",
       "    <tr>\n",
       "      <th>497</th>\n",
       "      <td>60</td>\n",
       "      <td>1</td>\n",
       "      <td>7</td>\n",
       "      <td>2</td>\n",
       "      <td>6</td>\n",
       "      <td>2</td>\n",
       "      <td>0</td>\n",
       "    </tr>\n",
       "    <tr>\n",
       "      <th>498</th>\n",
       "      <td>43</td>\n",
       "      <td>0</td>\n",
       "      <td>10</td>\n",
       "      <td>1</td>\n",
       "      <td>6</td>\n",
       "      <td>1</td>\n",
       "      <td>1</td>\n",
       "    </tr>\n",
       "    <tr>\n",
       "      <th>499</th>\n",
       "      <td>73</td>\n",
       "      <td>1</td>\n",
       "      <td>5</td>\n",
       "      <td>0</td>\n",
       "      <td>0</td>\n",
       "      <td>2</td>\n",
       "      <td>0</td>\n",
       "    </tr>\n",
       "  </tbody>\n",
       "</table>\n",
       "<p>500 rows × 7 columns</p>\n",
       "</div>"
      ],
      "text/plain": [
       "     Age  Grade  Histological type  MSKCC type  Site of primary STS  \\\n",
       "0     63      0                  5           0                    3   \n",
       "1     54      1                  5           1                    2   \n",
       "2     22      1                 10           1                    4   \n",
       "3     54      1                 10           0                    6   \n",
       "4     63      0                  6           1                    5   \n",
       "..   ...    ...                ...         ...                  ...   \n",
       "495   31      1                  0           1                    2   \n",
       "496   41      0                  8           1                    5   \n",
       "497   60      1                  7           2                    6   \n",
       "498   43      0                 10           1                    6   \n",
       "499   73      1                  5           0                    0   \n",
       "\n",
       "     Status (NED, AWD, D)  Treatment  \n",
       "0                       2          0  \n",
       "1                       1          2  \n",
       "2                       1          0  \n",
       "3                       2          0  \n",
       "4                       0          1  \n",
       "..                    ...        ...  \n",
       "495                     1          2  \n",
       "496                     0          1  \n",
       "497                     2          0  \n",
       "498                     1          1  \n",
       "499                     2          0  \n",
       "\n",
       "[500 rows x 7 columns]"
      ]
     },
     "execution_count": 22,
     "metadata": {},
     "output_type": "execute_result"
    }
   ],
   "source": [
    "df"
   ]
  },
  {
   "cell_type": "markdown",
   "id": "84addb12-c0e1-43b4-9477-944950386c32",
   "metadata": {
    "tags": []
   },
   "source": [
    "# 4.Data Splitting"
   ]
  },
  {
   "cell_type": "code",
   "execution_count": 23,
   "id": "dbd3bf1d-daa2-4ace-b4e9-a930f568b092",
   "metadata": {
    "tags": []
   },
   "outputs": [],
   "source": [
    "x = df.drop(['Treatment'], axis=1)\n",
    "y = df['Treatment']"
   ]
  },
  {
   "cell_type": "code",
   "execution_count": 24,
   "id": "0aa9a9f3-709d-4dd5-a3cc-ba43d602d02f",
   "metadata": {
    "tags": []
   },
   "outputs": [],
   "source": [
    "X_train, X_test, y_train, y_test = train_test_split(x,y,test_size=0.2,random_state=42)"
   ]
  },
  {
   "cell_type": "markdown",
   "id": "9ee642df-dadd-4636-a7b9-e31620980843",
   "metadata": {
    "tags": []
   },
   "source": [
    "# 5. StandardScaler"
   ]
  },
  {
   "cell_type": "code",
   "execution_count": 25,
   "id": "74995c63-6faf-423e-bc7b-3fa46c615236",
   "metadata": {},
   "outputs": [],
   "source": [
    "from sklearn.preprocessing import StandardScaler\n",
    "sc = StandardScaler()\n",
    "X_train = sc.fit_transform(X_train)\n",
    "X_test = sc.transform(X_test)"
   ]
  },
  {
   "cell_type": "markdown",
   "id": "954bf039-5ee2-418e-9800-b50714b4fd31",
   "metadata": {},
   "source": [
    "# 6 RandomForestClassifier Model Training and Evaluation"
   ]
  },
  {
   "cell_type": "code",
   "execution_count": 26,
   "id": "58b52a1e-4e5d-4cd3-a46f-c1bccfa4d22d",
   "metadata": {
    "tags": []
   },
   "outputs": [
    {
     "name": "stdout",
     "output_type": "stream",
     "text": [
      "Random Forest Model:\n",
      "Accuracy: 0.77\n",
      "Confusion Matrix:\n",
      " [[53  1  2]\n",
      " [ 6 18  0]\n",
      " [10  4  6]]\n",
      "Classification Report:\n",
      "               precision    recall  f1-score   support\n",
      "\n",
      "           0       0.77      0.95      0.85        56\n",
      "           1       0.78      0.75      0.77        24\n",
      "           2       0.75      0.30      0.43        20\n",
      "\n",
      "    accuracy                           0.77       100\n",
      "   macro avg       0.77      0.67      0.68       100\n",
      "weighted avg       0.77      0.77      0.74       100\n",
      "\n"
     ]
    }
   ],
   "source": [
    "from sklearn.metrics import accuracy_score, classification_report, confusion_matrix\n",
    "from sklearn.ensemble import RandomForestClassifier\n",
    "\n",
    "random_forest_model = RandomForestClassifier()\n",
    "\n",
    "random_forest_model.fit(X_train, y_train)\n",
    "\n",
    "y_pred_random_forest = random_forest_model.predict(X_test)\n",
    "\n",
    "\n",
    "accuracy_random_forest = accuracy_score(y_test, y_pred_random_forest)\n",
    "confusion_random_forest = confusion_matrix(y_test, y_pred_random_forest)\n",
    "classification_rep_random_forest = classification_report(y_test, y_pred_random_forest)\n",
    "\n",
    "\n",
    "print(\"Random Forest Model:\")\n",
    "print(f\"Accuracy: {accuracy_random_forest:.2f}\")\n",
    "print(\"Confusion Matrix:\\n\", confusion_random_forest)\n",
    "print(\"Classification Report:\\n\", classification_rep_random_forest)\n"
   ]
  },
  {
   "cell_type": "markdown",
   "id": "6340e50f-86fd-44cd-939b-c2ffa7792056",
   "metadata": {},
   "source": [
    "# 7. Saving The Model"
   ]
  },
  {
   "cell_type": "code",
   "execution_count": 27,
   "id": "b2b58e41-29e1-4e10-8ab5-588ac81d55bb",
   "metadata": {
    "tags": []
   },
   "outputs": [
    {
     "data": {
      "text/plain": [
       "['random_forest.pkl']"
      ]
     },
     "execution_count": 27,
     "metadata": {},
     "output_type": "execute_result"
    }
   ],
   "source": [
    "import joblib\n",
    "joblib.dump(random_forest_model, 'random_forest.pkl')"
   ]
  },
  {
   "cell_type": "code",
   "execution_count": null,
   "id": "08268347-8c8d-4898-abe9-228b994b865b",
   "metadata": {},
   "outputs": [],
   "source": []
  },
  {
   "cell_type": "code",
   "execution_count": null,
   "id": "e1a11475-44a7-4b88-9939-0a5e3368f43a",
   "metadata": {},
   "outputs": [],
   "source": []
  },
  {
   "cell_type": "code",
   "execution_count": null,
   "id": "85688a06-84be-4db0-ac7f-3757f30c6d88",
   "metadata": {},
   "outputs": [],
   "source": []
  },
  {
   "cell_type": "code",
   "execution_count": null,
   "id": "32487cfe-ee06-481c-b73b-c7abd7c6f1cd",
   "metadata": {},
   "outputs": [],
   "source": []
  },
  {
   "cell_type": "code",
   "execution_count": null,
   "id": "d0bde103-d52f-43ad-83ce-43c4dd6f5661",
   "metadata": {},
   "outputs": [],
   "source": []
  },
  {
   "cell_type": "code",
   "execution_count": null,
   "id": "f5baa7a5-dd43-4ba5-a297-226c9cbf82a0",
   "metadata": {},
   "outputs": [],
   "source": []
  },
  {
   "cell_type": "code",
   "execution_count": null,
   "id": "8ad772c6-0977-4517-86c9-ee34edcb2fc8",
   "metadata": {},
   "outputs": [],
   "source": []
  },
  {
   "cell_type": "code",
   "execution_count": null,
   "id": "56719a5c-9749-401c-9df2-13cb691d4614",
   "metadata": {},
   "outputs": [],
   "source": []
  },
  {
   "cell_type": "code",
   "execution_count": null,
   "id": "f987f563-60fa-450a-bd21-5e7de2527ef7",
   "metadata": {},
   "outputs": [],
   "source": []
  },
  {
   "cell_type": "code",
   "execution_count": null,
   "id": "3635bcb6-edbb-408b-bc19-76b774f5fa18",
   "metadata": {},
   "outputs": [],
   "source": []
  },
  {
   "cell_type": "code",
   "execution_count": null,
   "id": "e97659d4-e2ad-46ec-958c-064d974066d3",
   "metadata": {},
   "outputs": [],
   "source": []
  },
  {
   "cell_type": "code",
   "execution_count": null,
   "id": "a601a8de-e830-401c-a292-a305a3290e58",
   "metadata": {},
   "outputs": [],
   "source": []
  }
 ],
 "metadata": {
  "kernelspec": {
   "display_name": "tensor2",
   "language": "python",
   "name": "tensor2"
  },
  "language_info": {
   "codemirror_mode": {
    "name": "ipython",
    "version": 3
   },
   "file_extension": ".py",
   "mimetype": "text/x-python",
   "name": "python",
   "nbconvert_exporter": "python",
   "pygments_lexer": "ipython3",
   "version": "3.10.13"
  }
 },
 "nbformat": 4,
 "nbformat_minor": 5
}
